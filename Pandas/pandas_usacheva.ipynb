{
 "cells": [
  {
   "cell_type": "code",
   "execution_count": 1,
   "id": "01f17b58",
   "metadata": {},
   "outputs": [],
   "source": [
    "import pandas as pd\n",
    "import numpy as np"
   ]
  },
  {
   "cell_type": "code",
   "execution_count": 3,
   "id": "2d0c975c",
   "metadata": {},
   "outputs": [
    {
     "name": "stdout",
     "output_type": "stream",
     "text": [
      "TASK 1.1: \n",
      "                                               name      id  minutes  \\\n",
      "0             george s at the cove  black bean soup   44123       90   \n",
      "1                healthy for them  yogurt popsicles   67664       10   \n",
      "2                      i can t believe it s spinach   38798       30   \n",
      "3                              italian  gut busters   35173       45   \n",
      "4          love is in the air  beef fondue   sauces   84797       25   \n",
      "...                                             ...     ...      ...   \n",
      "29995  zurie s holey rustic olive and cheddar bread  267661       80   \n",
      "29996          zwetschgenkuchen  bavarian plum cake  386977      240   \n",
      "29997   zwiebelkuchen   southwest german onion cake  103312       75   \n",
      "29998                                   zydeco soup  486161       60   \n",
      "29999        cookies by design   cookies on a stick  298512       29   \n",
      "\n",
      "       contributor_id   submitted  n_steps  \\\n",
      "0               35193  2002-10-25      NaN   \n",
      "1               91970  2003-07-26      NaN   \n",
      "2                1533  2002-08-29      NaN   \n",
      "3               22724  2002-07-27      NaN   \n",
      "4                4470  2004-02-23      4.0   \n",
      "...               ...         ...      ...   \n",
      "29995          200862  2007-11-25     16.0   \n",
      "29996          177443  2009-08-24      NaN   \n",
      "29997          161745  2004-11-03      NaN   \n",
      "29998          227978  2012-08-29      NaN   \n",
      "29999          506822  2008-04-15      9.0   \n",
      "\n",
      "                                             description  n_ingredients  \n",
      "0      an original recipe created by chef scott meska...           18.0  \n",
      "1      my children and their friends ask for my homem...            NaN  \n",
      "2                these were so go, it surprised even me.            8.0  \n",
      "3      my sister-in-law made these for us at a family...            NaN  \n",
      "4      i think a fondue is a very romantic casual din...            NaN  \n",
      "...                                                  ...            ...  \n",
      "29995  this is based on a french recipe but i changed...           10.0  \n",
      "29996  this is a traditional fresh plum cake, thought...           11.0  \n",
      "29997  this is a traditional late summer early fall s...            NaN  \n",
      "29998  this is a delicious soup that i originally fou...            NaN  \n",
      "29999  i've heard of the 'cookies by design' company,...           10.0  \n",
      "\n",
      "[30000 rows x 8 columns] \n",
      "         Unnamed: 0     user_id  recipe_id        date  rating  \\\n",
      "0           370476       21752      57993  2003-05-01       5   \n",
      "1           624300      431813     142201  2007-09-16       5   \n",
      "2           187037      400708     252013  2008-01-10       4   \n",
      "3           706134  2001852463     404716  2017-12-11       5   \n",
      "4           312179       95810     129396  2008-03-14       5   \n",
      "...            ...         ...        ...         ...     ...   \n",
      "126691     1013457     1270706     335534  2009-05-17       4   \n",
      "126692      158736     2282344       8701  2012-06-03       0   \n",
      "126693     1059834      689540     222001  2008-04-08       5   \n",
      "126694      453285  2000242659     354979  2015-06-02       5   \n",
      "126695      691207      463435     415599  2010-09-30       5   \n",
      "\n",
      "                                                   review  \n",
      "0       Last week whole sides of frozen salmon fillet ...  \n",
      "1       So simple and so tasty!  I used a yellow capsi...  \n",
      "2       Very nice breakfast HH, easy to make and yummy...  \n",
      "3       These are a favorite for the holidays and so e...  \n",
      "4       Excellent soup!  The tomato flavor is just gre...  \n",
      "...                                                   ...  \n",
      "126691  This recipe was great! I made it last night. I...  \n",
      "126692  This recipe is outstanding. I followed the rec...  \n",
      "126693  Well, we were not a crowd but it was a fabulou...  \n",
      "126694  I have been a steak eater and dedicated BBQ gr...  \n",
      "126695  Wonderful and simple to prepare seasoning blen...  \n",
      "\n",
      "[126696 rows x 6 columns] \n",
      "\n"
     ]
    }
   ],
   "source": [
    "recipes = pd.read_csv('recipes_sample.csv', delimiter=',')\n",
    "reviews = pd.read_csv('reviews_sample.csv', delimiter=',')\n",
    "print(f'TASK 1.1: \\n'\n",
    "      f'{recipes} \\n {reviews} \\n')\n"
   ]
  },
  {
   "cell_type": "code",
   "execution_count": 4,
   "id": "b07276ee",
   "metadata": {},
   "outputs": [
    {
     "name": "stdout",
     "output_type": "stream",
     "text": [
      "TASK 1.2: \n",
      "Количество строк x количество столбцов \"recipes\": 30000 x 8\n",
      "Количество строк x количество столбцов \"reviews\": 126696 x 6\n",
      "Типы данных столбцов \"recipes\": \n",
      "name               object\n",
      "id                  int64\n",
      "minutes             int64\n",
      "contributor_id      int64\n",
      "submitted          object\n",
      "n_steps           float64\n",
      "description        object\n",
      "n_ingredients     float64\n",
      "dtype: object \n",
      "Типы данных столбцов \"reviews\": \n",
      "Unnamed: 0     int64\n",
      "user_id        int64\n",
      "recipe_id      int64\n",
      "date          object\n",
      "rating         int64\n",
      "review        object\n",
      "dtype: object \n",
      "\n"
     ]
    }
   ],
   "source": [
    "print(f'TASK 1.2: \\n'\n",
    "      f'Количество строк x количество столбцов \"recipes\": {recipes.shape[0]} x {recipes.shape[1]}\\n'\n",
    "      f'Количество строк x количество столбцов \"reviews\": {reviews.shape[0]} x {reviews.shape[1]}\\n'\n",
    "      f'Типы данных столбцов \"recipes\": \\n{recipes.dtypes} \\n'\n",
    "      f'Типы данных столбцов \"reviews\": \\n{reviews.dtypes} \\n')"
   ]
  },
  {
   "cell_type": "code",
   "execution_count": 7,
   "id": "1908812f",
   "metadata": {},
   "outputs": [
    {
     "name": "stdout",
     "output_type": "stream",
     "text": [
      "<bound method DataFrame.info of         name     id  minutes  contributor_id  submitted  n_steps  description  \\\n",
      "0      False  False    False           False      False     True        False   \n",
      "1      False  False    False           False      False     True        False   \n",
      "2      False  False    False           False      False     True        False   \n",
      "3      False  False    False           False      False     True        False   \n",
      "4      False  False    False           False      False    False        False   \n",
      "...      ...    ...      ...             ...        ...      ...          ...   \n",
      "29995  False  False    False           False      False    False        False   \n",
      "29996  False  False    False           False      False     True        False   \n",
      "29997  False  False    False           False      False     True        False   \n",
      "29998  False  False    False           False      False     True        False   \n",
      "29999  False  False    False           False      False    False        False   \n",
      "\n",
      "       n_ingredients  \n",
      "0              False  \n",
      "1               True  \n",
      "2              False  \n",
      "3               True  \n",
      "4               True  \n",
      "...              ...  \n",
      "29995          False  \n",
      "29996          False  \n",
      "29997           True  \n",
      "29998           True  \n",
      "29999          False  \n",
      "\n",
      "[30000 rows x 8 columns]>\n",
      "<bound method DataFrame.info of         Unnamed: 0  user_id  recipe_id   date  rating  review\n",
      "0            False    False      False  False   False   False\n",
      "1            False    False      False  False   False   False\n",
      "2            False    False      False  False   False   False\n",
      "3            False    False      False  False   False   False\n",
      "4            False    False      False  False   False   False\n",
      "...            ...      ...        ...    ...     ...     ...\n",
      "126691       False    False      False  False   False   False\n",
      "126692       False    False      False  False   False   False\n",
      "126693       False    False      False  False   False   False\n",
      "126694       False    False      False  False   False   False\n",
      "126695       False    False      False  False   False   False\n",
      "\n",
      "[126696 rows x 6 columns]>\n"
     ]
    }
   ],
   "source": [
    "bool_t1 = pd.isnull(recipes)\n",
    "bool_t2 = pd.isnull(reviews)\n",
    "print(bool_t1.info)\n",
    "print(bool_t2.info)"
   ]
  },
  {
   "cell_type": "code",
   "execution_count": 8,
   "id": "e9437dda",
   "metadata": {},
   "outputs": [
    {
     "name": "stdout",
     "output_type": "stream",
     "text": [
      "TASK 1.4: \n",
      "recipes: \n",
      "Среднее количество минут: 123.35813333333333 \n",
      "Среднее количество ингридиентов: 9.008285984848484 \n",
      "reviews: \n",
      "Средняя оценка: 4.410802235271832 \n",
      "\n"
     ]
    }
   ],
   "source": [
    "print(f'TASK 1.4: \\n'\n",
    "      f'recipes: \\n'\n",
    "      f'Среднее количество минут: {recipes[\"minutes\"].mean()} \\n'\n",
    "      f'Среднее количество ингридиентов: {recipes[\"n_ingredients\"].mean()} \\n'\n",
    "      f'reviews: \\n'\n",
    "      f'Средняя оценка: {reviews[\"rating\"].mean()} \\n')"
   ]
  },
  {
   "cell_type": "code",
   "execution_count": 9,
   "id": "88881a9c",
   "metadata": {},
   "outputs": [
    {
     "name": "stdout",
     "output_type": "stream",
     "text": [
      "TASK 1.5: \n",
      "10747                           fantastic banana fruitcake\n",
      "12573                greek orzo salad w  kalamata and feta\n",
      "29676                    yet   another tater tot casserole\n",
      "8856                   crusty parmesan herb zucchini bites\n",
      "21098                                     pomegranate duck\n",
      "17458                     mexican chicken   bean casserole\n",
      "1476                             avocado and tomatillo dip\n",
      "5120     cheese and squeeze   cheddar and beef   biscui...\n",
      "18338                            mushroom sesame tofu soup\n",
      "28279    tuscan t  bone steak  or  bistecca alla fioren...\n",
      "Name: name, dtype: object \n",
      "\n"
     ]
    }
   ],
   "source": [
    "print(f'TASK 1.5: \\n'\n",
    "      f'{recipes[\"name\"].sample(n=10, random_state=1)} \\n')"
   ]
  },
  {
   "cell_type": "code",
   "execution_count": 10,
   "id": "2703dd81",
   "metadata": {},
   "outputs": [
    {
     "name": "stdout",
     "output_type": "stream",
     "text": [
      "TASK 1.6: \n",
      "         index  Unnamed: 0     user_id  recipe_id        date  rating  \\\n",
      "0            0      370476       21752      57993  2003-05-01       5   \n",
      "1            1      624300      431813     142201  2007-09-16       5   \n",
      "2            2      187037      400708     252013  2008-01-10       4   \n",
      "3            3      706134  2001852463     404716  2017-12-11       5   \n",
      "4            4      312179       95810     129396  2008-03-14       5   \n",
      "...        ...         ...         ...        ...         ...     ...   \n",
      "126691  126691     1013457     1270706     335534  2009-05-17       4   \n",
      "126692  126692      158736     2282344       8701  2012-06-03       0   \n",
      "126693  126693     1059834      689540     222001  2008-04-08       5   \n",
      "126694  126694      453285  2000242659     354979  2015-06-02       5   \n",
      "126695  126695      691207      463435     415599  2010-09-30       5   \n",
      "\n",
      "                                                   review  \n",
      "0       Last week whole sides of frozen salmon fillet ...  \n",
      "1       So simple and so tasty!  I used a yellow capsi...  \n",
      "2       Very nice breakfast HH, easy to make and yummy...  \n",
      "3       These are a favorite for the holidays and so e...  \n",
      "4       Excellent soup!  The tomato flavor is just gre...  \n",
      "...                                                   ...  \n",
      "126691  This recipe was great! I made it last night. I...  \n",
      "126692  This recipe is outstanding. I followed the rec...  \n",
      "126693  Well, we were not a crowd but it was a fabulou...  \n",
      "126694  I have been a steak eater and dedicated BBQ gr...  \n",
      "126695  Wonderful and simple to prepare seasoning blen...  \n",
      "\n",
      "[126696 rows x 7 columns] \n",
      "\n"
     ]
    }
   ],
   "source": [
    "print(f'TASK 1.6: \\n'\n",
    "      f'{reviews.reset_index()} \\n')"
   ]
  },
  {
   "cell_type": "code",
   "execution_count": 11,
   "id": "fbb89658",
   "metadata": {},
   "outputs": [
    {
     "name": "stdout",
     "output_type": "stream",
     "text": [
      "TASK 1.7: \n",
      "                                                    name      id  minutes  \\\n",
      "28                                   quick biscuit bread  302399       20   \n",
      "60                         peas  fit for a king or queen  303944       20   \n",
      "90                     hawaiian sunrise           mimosa  100837        5   \n",
      "91            tasty dish s   banana pudding in 2 minutes  286484        2   \n",
      "94                                    1 minute meatballs   11361       13   \n",
      "...                                                  ...     ...      ...   \n",
      "29873  zip and steam red potatoes with butter and garlic  304922       13   \n",
      "29874                          ziplock vanilla ice cream   74250       10   \n",
      "29905                      zucchini and corn with cheese  256177       15   \n",
      "29980               zucchini with jalapeno monterey jack  320622       10   \n",
      "29983                          zucchini with serrano ham  162411       15   \n",
      "\n",
      "       contributor_id   submitted  n_steps  \\\n",
      "28             213909  2008-05-06     11.0   \n",
      "60             213909  2008-05-16      NaN   \n",
      "90              58104  2004-09-29      4.0   \n",
      "91              47892  2008-02-13      NaN   \n",
      "94               4470  2001-09-03      NaN   \n",
      "...               ...         ...      ...   \n",
      "29873          724218  2008-05-27      9.0   \n",
      "29874           24386  2003-10-29      8.0   \n",
      "29905          305531  2007-09-29      4.0   \n",
      "29980          305531  2008-08-20      3.0   \n",
      "29983          152500  2006-03-31      6.0   \n",
      "\n",
      "                                             description  n_ingredients  \n",
      "28     this is a wonderful quick bread to make as an ...            5.0  \n",
      "60     this recipe is so simple and the flavors are s...            5.0  \n",
      "90     pineapple mimosa was changed to hawaiian sunri...            3.0  \n",
      "91     \"mmmm, i love bananas!\" a --tasty dish-- origi...            4.0  \n",
      "94     this is a real short cut for cooks in a hurry....            2.0  \n",
      "...                                                  ...            ...  \n",
      "29873  i haven't tried this yet, but i am going to so...            5.0  \n",
      "29874  a fun thing for kids to do. may want to use mi...            3.0  \n",
      "29905  from betty crocker fresh spring recipes. i lik...            5.0  \n",
      "29980                                  simple and yummy!            3.0  \n",
      "29983  this dish is from tim malzer, a german chef wh...            5.0  \n",
      "\n",
      "[2019 rows x 8 columns] \n",
      "\n"
     ]
    }
   ],
   "source": [
    "print(f'TASK 1.7: \\n'\n",
    "      f'{recipes.loc[(recipes[\"minutes\"] <= 20) & (recipes[\"n_ingredients\"] <= 5)]} \\n')"
   ]
  },
  {
   "cell_type": "code",
   "execution_count": 12,
   "id": "4532c278",
   "metadata": {},
   "outputs": [
    {
     "name": "stdout",
     "output_type": "stream",
     "text": [
      "TASK 2.1: \n",
      "0        2002-10-25\n",
      "1        2003-07-26\n",
      "2        2002-08-29\n",
      "3        2002-07-27\n",
      "4        2004-02-23\n",
      "            ...    \n",
      "29995    2007-11-25\n",
      "29996    2009-08-24\n",
      "29997    2004-11-03\n",
      "29998    2012-08-29\n",
      "29999    2008-04-15\n",
      "Name: submitted, Length: 30000, dtype: object \n",
      "\n"
     ]
    }
   ],
   "source": [
    "recipes_dates = pd.read_csv('recipes_sample.csv', delimiter=',', parse_dates=['submitted'])\n",
    "print(f'TASK 2.1: \\n'\n",
    "      f'{recipes[\"submitted\"]} \\n')"
   ]
  },
  {
   "cell_type": "code",
   "execution_count": 13,
   "id": "ea4f1f23",
   "metadata": {},
   "outputs": [
    {
     "name": "stdout",
     "output_type": "stream",
     "text": [
      "TASK 3.1: \n",
      "                                               name      id  minutes  \\\n",
      "0             george s at the cove  black bean soup   44123       90   \n",
      "1                healthy for them  yogurt popsicles   67664       10   \n",
      "2                      i can t believe it s spinach   38798       30   \n",
      "3                              italian  gut busters   35173       45   \n",
      "4          love is in the air  beef fondue   sauces   84797       25   \n",
      "...                                             ...     ...      ...   \n",
      "29995  zurie s holey rustic olive and cheddar bread  267661       80   \n",
      "29996          zwetschgenkuchen  bavarian plum cake  386977      240   \n",
      "29997   zwiebelkuchen   southwest german onion cake  103312       75   \n",
      "29998                                   zydeco soup  486161       60   \n",
      "29999        cookies by design   cookies on a stick  298512       29   \n",
      "\n",
      "       contributor_id   submitted  n_steps  \\\n",
      "0               35193  2002-10-25      NaN   \n",
      "1               91970  2003-07-26      NaN   \n",
      "2                1533  2002-08-29      NaN   \n",
      "3               22724  2002-07-27      NaN   \n",
      "4                4470  2004-02-23      4.0   \n",
      "...               ...         ...      ...   \n",
      "29995          200862  2007-11-25     16.0   \n",
      "29996          177443  2009-08-24      NaN   \n",
      "29997          161745  2004-11-03      NaN   \n",
      "29998          227978  2012-08-29      NaN   \n",
      "29999          506822  2008-04-15      9.0   \n",
      "\n",
      "                                             description  n_ingredients  \\\n",
      "0      an original recipe created by chef scott meska...           18.0   \n",
      "1      my children and their friends ask for my homem...            NaN   \n",
      "2                these were so go, it surprised even me.            8.0   \n",
      "3      my sister-in-law made these for us at a family...            NaN   \n",
      "4      i think a fondue is a very romantic casual din...            NaN   \n",
      "...                                                  ...            ...   \n",
      "29995  this is based on a french recipe but i changed...           10.0   \n",
      "29996  this is a traditional fresh plum cake, thought...           11.0   \n",
      "29997  this is a traditional late summer early fall s...            NaN   \n",
      "29998  this is a delicious soup that i originally fou...            NaN   \n",
      "29999  i've heard of the 'cookies by design' company,...           10.0   \n",
      "\n",
      "       description_length  \n",
      "0                   330.0  \n",
      "1                   255.0  \n",
      "2                    39.0  \n",
      "3                   154.0  \n",
      "4                   587.0  \n",
      "...                   ...  \n",
      "29995               484.0  \n",
      "29996               286.0  \n",
      "29997               311.0  \n",
      "29998               648.0  \n",
      "29999               125.0  \n",
      "\n",
      "[30000 rows x 9 columns]\n"
     ]
    }
   ],
   "source": [
    "print(f'TASK 3.1: \\n'\n",
    "      f'{recipes.assign(description_length=recipes[\"description\"].str.len())}')"
   ]
  },
  {
   "cell_type": "code",
   "execution_count": 14,
   "id": "d867cb4d",
   "metadata": {},
   "outputs": [
    {
     "name": "stdout",
     "output_type": "stream",
     "text": [
      "TASK 3.2: \n",
      "0               George s at the cove  black bean soup\n",
      "1                  Healthy for them  yogurt popsicles\n",
      "2                        I can t believe it s spinach\n",
      "3                                Italian  gut busters\n",
      "4            Love is in the air  beef fondue   sauces\n",
      "                             ...                     \n",
      "29995    Zurie s holey rustic olive and cheddar bread\n",
      "29996            Zwetschgenkuchen  bavarian plum cake\n",
      "29997     Zwiebelkuchen   southwest german onion cake\n",
      "29998                                     Zydeco soup\n",
      "29999          Cookies by design   cookies on a stick\n",
      "Name: name, Length: 30000, dtype: object\n"
     ]
    }
   ],
   "source": [
    "print(f'TASK 3.2: \\n'\n",
    "      f'{recipes.name.str.capitalize()}')"
   ]
  },
  {
   "cell_type": "code",
   "execution_count": 15,
   "id": "6c8f954b",
   "metadata": {},
   "outputs": [
    {
     "name": "stdout",
     "output_type": "stream",
     "text": [
      "TASK 3.3: \n",
      "                                               name      id  minutes  \\\n",
      "0             george s at the cove  black bean soup   44123       90   \n",
      "1                healthy for them  yogurt popsicles   67664       10   \n",
      "2                      i can t believe it s spinach   38798       30   \n",
      "3                              italian  gut busters   35173       45   \n",
      "4          love is in the air  beef fondue   sauces   84797       25   \n",
      "...                                             ...     ...      ...   \n",
      "29995  zurie s holey rustic olive and cheddar bread  267661       80   \n",
      "29996          zwetschgenkuchen  bavarian plum cake  386977      240   \n",
      "29997   zwiebelkuchen   southwest german onion cake  103312       75   \n",
      "29998                                   zydeco soup  486161       60   \n",
      "29999        cookies by design   cookies on a stick  298512       29   \n",
      "\n",
      "       contributor_id   submitted  n_steps  \\\n",
      "0               35193  2002-10-25      NaN   \n",
      "1               91970  2003-07-26      NaN   \n",
      "2                1533  2002-08-29      NaN   \n",
      "3               22724  2002-07-27      NaN   \n",
      "4                4470  2004-02-23      4.0   \n",
      "...               ...         ...      ...   \n",
      "29995          200862  2007-11-25     16.0   \n",
      "29996          177443  2009-08-24      NaN   \n",
      "29997          161745  2004-11-03      NaN   \n",
      "29998          227978  2012-08-29      NaN   \n",
      "29999          506822  2008-04-15      9.0   \n",
      "\n",
      "                                             description  n_ingredients  \\\n",
      "0      an original recipe created by chef scott meska...           18.0   \n",
      "1      my children and their friends ask for my homem...            NaN   \n",
      "2                these were so go, it surprised even me.            8.0   \n",
      "3      my sister-in-law made these for us at a family...            NaN   \n",
      "4      i think a fondue is a very romantic casual din...            NaN   \n",
      "...                                                  ...            ...   \n",
      "29995  this is based on a french recipe but i changed...           10.0   \n",
      "29996  this is a traditional fresh plum cake, thought...           11.0   \n",
      "29997  this is a traditional late summer early fall s...            NaN   \n",
      "29998  this is a delicious soup that i originally fou...            NaN   \n",
      "29999  i've heard of the 'cookies by design' company,...           10.0   \n",
      "\n",
      "       name_word_count  \n",
      "0                    8  \n",
      "1                    5  \n",
      "2                    7  \n",
      "3                    3  \n",
      "4                    9  \n",
      "...                ...  \n",
      "29995                8  \n",
      "29996                4  \n",
      "29997                6  \n",
      "29998                2  \n",
      "29999                8  \n",
      "\n",
      "[30000 rows x 9 columns]\n"
     ]
    }
   ],
   "source": [
    "print(f'TASK 3.3: \\n'\n",
    "      f'{recipes.assign(name_word_count = (recipes[\"name\"].str.replace(\"  \", \" \").str.count(\" \")+1))}')"
   ]
  },
  {
   "cell_type": "code",
   "execution_count": 16,
   "id": "ab47f592",
   "metadata": {},
   "outputs": [
    {
     "name": "stdout",
     "output_type": "stream",
     "text": [
      "TASK 4.1: \n",
      "89831      421\n",
      "37449      346\n",
      "37779      345\n",
      "1533       186\n",
      "169430     183\n",
      "          ... \n",
      "1061628      1\n",
      "1076183      1\n",
      "429061       1\n",
      "64032        1\n",
      "186118       1\n",
      "Name: contributor_id, Length: 8404, dtype: int64 \n",
      "\n",
      "Участник 89831 добавил максимальное (421) количество рецептов\n"
     ]
    }
   ],
   "source": [
    "print(f'TASK 4.1: \\n'\n",
    "      f'{recipes.contributor_id.value_counts()} \\n\\nУчастник {recipes.contributor_id.value_counts().index[0]} '\n",
    "      f'добавил максимальное ({recipes.contributor_id.value_counts().iloc[0]}) количество рецептов')"
   ]
  },
  {
   "cell_type": "code",
   "execution_count": 17,
   "id": "ffaa5d92",
   "metadata": {},
   "outputs": [
    {
     "name": "stdout",
     "output_type": "stream",
     "text": [
      "TASK 4.2: \n",
      "recipe_id\n",
      "48        1.000000\n",
      "55        4.750000\n",
      "66        4.944444\n",
      "91        4.750000\n",
      "94        5.000000\n",
      "            ...   \n",
      "536547    5.000000\n",
      "536610    0.000000\n",
      "536728    4.000000\n",
      "536729    4.750000\n",
      "536747    0.000000\n",
      "Name: rating, Length: 28100, dtype: float64\n",
      "17\n"
     ]
    }
   ],
   "source": [
    "print(f'TASK 4.2: \\n'\n",
    "      f'{reviews.groupby(\"recipe_id\")[\"rating\"].mean()}\\n'\n",
    "      f'{reviews.review.isnull().sum()}')"
   ]
  },
  {
   "cell_type": "code",
   "execution_count": 18,
   "id": "b179d0fb",
   "metadata": {},
   "outputs": [
    {
     "name": "stdout",
     "output_type": "stream",
     "text": [
      "TASK 4.3: \n",
      "2008-01-27    93\n",
      "2008-01-02    92\n",
      "2008-02-04    90\n",
      "2008-06-30    88\n",
      "2008-01-14    85\n",
      "              ..\n",
      "2017-07-07     1\n",
      "2018-11-24     1\n",
      "2001-12-22     1\n",
      "2001-04-13     1\n",
      "2001-05-07     1\n",
      "Name: date, Length: 6251, dtype: int64\n"
     ]
    }
   ],
   "source": [
    "print(f'TASK 4.3: \\n'\n",
    "      f'{reviews[\"date\"].value_counts()}')"
   ]
  },
  {
   "cell_type": "code",
   "execution_count": 19,
   "id": "8002a5ab",
   "metadata": {},
   "outputs": [
    {
     "name": "stdout",
     "output_type": "stream",
     "text": [
      "TASK 5.1: \n",
      "            id                                    name  user_id  rating\n",
      "0        44123   george s at the cove  black bean soup   743566       5\n",
      "1        44123   george s at the cove  black bean soup    76503       5\n",
      "2        44123   george s at the cove  black bean soup    34206       5\n",
      "3        67664      healthy for them  yogurt popsicles   494084       5\n",
      "4        67664      healthy for them  yogurt popsicles   303445       5\n",
      "...        ...                                     ...      ...     ...\n",
      "126691  486161                             zydeco soup   305531       5\n",
      "126692  486161                             zydeco soup  1271506       5\n",
      "126693  486161                             zydeco soup   724631       5\n",
      "126694  486161                             zydeco soup   133174       5\n",
      "126695  298512  cookies by design   cookies on a stick   804234       1\n",
      "\n",
      "[126696 rows x 4 columns]\n"
     ]
    }
   ],
   "source": [
    "print(f'TASK 5.1: \\n'\n",
    "      f\"{pd.merge(recipes[['id', 'name']], reviews[['recipe_id', 'user_id', 'rating']], left_on='id', right_on='recipe_id', how='inner').drop(columns=['recipe_id'])}\")"
   ]
  },
  {
   "cell_type": "code",
   "execution_count": null,
   "id": "db34e2ef",
   "metadata": {},
   "outputs": [],
   "source": []
  }
 ],
 "metadata": {
  "kernelspec": {
   "display_name": "Python 3 (ipykernel)",
   "language": "python",
   "name": "python3"
  },
  "language_info": {
   "codemirror_mode": {
    "name": "ipython",
    "version": 3
   },
   "file_extension": ".py",
   "mimetype": "text/x-python",
   "name": "python",
   "nbconvert_exporter": "python",
   "pygments_lexer": "ipython3",
   "version": "3.9.12"
  }
 },
 "nbformat": 4,
 "nbformat_minor": 5
}
