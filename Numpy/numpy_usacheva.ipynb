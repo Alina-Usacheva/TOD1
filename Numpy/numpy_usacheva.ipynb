{
 "cells": [
  {
   "cell_type": "code",
   "execution_count": 2,
   "id": "fd84f23a",
   "metadata": {},
   "outputs": [],
   "source": [
    "import numpy as np"
   ]
  },
  {
   "cell_type": "code",
   "execution_count": 3,
   "id": "1ac3cda1",
   "metadata": {},
   "outputs": [
    {
     "name": "stdout",
     "output_type": "stream",
     "text": [
      "TASK 1: \n",
      " [[127244     60     16]\n",
      " [ 23891     25      7]\n",
      " [ 94746     10      6]\n",
      " [ 67660      5      6]\n",
      " [157911     60     14]] \n",
      "\n"
     ]
    }
   ],
   "source": [
    "arr1 = np.loadtxt('minutes_n_ingredients.csv', delimiter=',', skiprows=1, dtype=np.int32)\n",
    "strings = arr1[:5, :]\n",
    "print(f'TASK 1: \\n {strings} \\n')"
   ]
  },
  {
   "cell_type": "code",
   "execution_count": 4,
   "id": "143e5ef0",
   "metadata": {},
   "outputs": [
    {
     "name": "stdout",
     "output_type": "stream",
     "text": [
      "TASK 2: \n",
      " Среднее значение: [2.16010017e+04 9.05528000e+00] \n",
      "Минимум: [0 1] \n",
      " Максимум: [2147483647         39] \n",
      "Медиана: [40.  9.] \n",
      "\n"
     ]
    }
   ],
   "source": [
    "arr2 = arr1[:, 1:]\n",
    "print('TASK 2: \\n', f'Среднее значение: {np.mean(arr2, axis=0)} \\n'\n",
    "      f'Минимум: {arr2.min(axis=0)} \\n',\n",
    "      f'Максимум: {arr2.max(axis=0)} \\n'\n",
    "      f'Медиана: {np.median(arr2, axis=0)} \\n')"
   ]
  },
  {
   "cell_type": "code",
   "execution_count": 5,
   "id": "0cfd341a",
   "metadata": {},
   "outputs": [
    {
     "name": "stdout",
     "output_type": "stream",
     "text": [
      "TASK 3: \n",
      " [60. 25. 10. ... 65.  5. 65.] \n",
      "\n"
     ]
    }
   ],
   "source": [
    "print(f'TASK 3: \\n {np.clip(arr1[:, 1], 0, np.quantile(arr1[:, 1], 0.75))} \\n')"
   ]
  },
  {
   "cell_type": "code",
   "execution_count": 6,
   "id": "3e0a99d8",
   "metadata": {},
   "outputs": [
    {
     "name": "stdout",
     "output_type": "stream",
     "text": [
      "TASK 4: \n",
      " Продолжительность равна 0 у 479 рецептов \n",
      "\n"
     ]
    }
   ],
   "source": [
    "print('TASK 4: \\n', f'Продолжительность равна 0 у {np.count_nonzero(arr1[:, 1] == 0)} рецептов \\n')"
   ]
  },
  {
   "cell_type": "code",
   "execution_count": 7,
   "id": "909ab44b",
   "metadata": {},
   "outputs": [
    {
     "name": "stdout",
     "output_type": "stream",
     "text": [
      "TASK 5: \n",
      " 100000 \n",
      "\n"
     ]
    }
   ],
   "source": [
    "print(f'TASK 5: \\n {len(np.unique(arr1[:, 0]))} \\n')"
   ]
  },
  {
   "cell_type": "code",
   "execution_count": 8,
   "id": "94e60083",
   "metadata": {},
   "outputs": [
    {
     "name": "stdout",
     "output_type": "stream",
     "text": [
      "TASK 6: \n",
      " 37, \n",
      " [ 1  2  3  4  5  6  7  8  9 10 11 12 13 14 15 16 17 18 19 20 21 22 23 24\n",
      " 25 26 27 28 29 30 31 32 33 34 35 37 39] \n",
      "\n"
     ]
    }
   ],
   "source": [
    "print('TASK 6: \\n', f'{len(np.unique(arr1[:, 2]))}, \\n {np.unique(arr1[:, 2])} \\n')"
   ]
  },
  {
   "cell_type": "code",
   "execution_count": 9,
   "id": "0ce727b5",
   "metadata": {},
   "outputs": [
    {
     "name": "stdout",
     "output_type": "stream",
     "text": [
      "TASK 7: \n",
      " [[446597     15      5]\n",
      " [204134      5      3]\n",
      " [ 25623      6      4]\n",
      " ...\n",
      " [ 52088     60      5]\n",
      " [128811     15      4]\n",
      " [370915      5      4]] \n",
      "\n"
     ]
    }
   ],
   "source": [
    "arr3 = np.copy(arr1)\n",
    "smt = (arr3[:, 2] <= 5)\n",
    "print(f'TASK 7: \\n {arr3[smt, :]} \\n')"
   ]
  },
  {
   "cell_type": "code",
   "execution_count": 10,
   "id": "4bb2b26b",
   "metadata": {},
   "outputs": [
    {
     "name": "stdout",
     "output_type": "stream",
     "text": [
      "TASK 8: \n",
      " 23 \n",
      "\n"
     ]
    },
    {
     "name": "stderr",
     "output_type": "stream",
     "text": [
      "C:\\Users\\1\\AppData\\Local\\Temp\\ipykernel_15292\\3017519935.py:1: RuntimeWarning: divide by zero encountered in floor_divide\n",
      "  number = arr1[:, 2] // arr1[:, 1]\n"
     ]
    }
   ],
   "source": [
    "number = arr1[:, 2] // arr1[:, 1]\n",
    "print(f'TASK 8: \\n {number.max(axis=0)} \\n')"
   ]
  },
  {
   "cell_type": "code",
   "execution_count": 11,
   "id": "3cabb7c9",
   "metadata": {},
   "outputs": [
    {
     "name": "stdout",
     "output_type": "stream",
     "text": [
      "TASK 9: \n",
      " 6.61 \n",
      "\n"
     ]
    }
   ],
   "source": [
    "arr4 = arr1[arr1[:, 1].argsort()][-100:]\n",
    "print(f'TASK 9: \\n {np.mean(arr4[:, 2])} \\n')"
   ]
  },
  {
   "cell_type": "code",
   "execution_count": 12,
   "id": "cdf83310",
   "metadata": {},
   "outputs": [
    {
     "name": "stdout",
     "output_type": "stream",
     "text": [
      "TASK 10: \n",
      " [[[ 30477     10      6]\n",
      "  [376262     90     15]\n",
      "  [448580     28     10]\n",
      "  [106428      5      5]\n",
      "  [189801     90      9]\n",
      "  [ 98522     20      9]\n",
      "  [118105     75     10]\n",
      "  [ 93161     15      5]\n",
      "  [102491     35      6]\n",
      "  [104726     25      6]]] \n",
      "\n"
     ]
    }
   ],
   "source": [
    "number = 10\n",
    "rand = np.random.randint(1, 100000, size=(1, 10))\n",
    "print(f'TASK 10: \\n {arr1[rand]} \\n')"
   ]
  },
  {
   "cell_type": "code",
   "execution_count": 13,
   "id": "55da7d7f",
   "metadata": {},
   "outputs": [
    {
     "name": "stdout",
     "output_type": "stream",
     "text": [
      "TASK 11: \n",
      " 58.802 \n",
      "\n"
     ]
    }
   ],
   "source": [
    "less = (arr1[:, 2] <= np.mean(arr1[:, 2]))\n",
    "print(f'TASK 11: \\n {len(arr1[less, :]) / len(arr1) * 100} \\n')"
   ]
  },
  {
   "cell_type": "code",
   "execution_count": 14,
   "id": "16d223b1",
   "metadata": {},
   "outputs": [
    {
     "name": "stdout",
     "output_type": "stream",
     "text": [
      "TASK 12: \n",
      " [[127244     60     16      0]\n",
      " [ 23891     25      7      0]\n",
      " [ 94746     10      6      0]\n",
      " ...\n",
      " [498432     65     15      0]\n",
      " [370915      5      4      1]\n",
      " [ 81993    140     14      0]] \n",
      "\n"
     ]
    }
   ],
   "source": [
    "arr5 = arr1.copy()\n",
    "rec = [1 if (row[1] <= 20) & (row[2] <= 5) else 0 for row in arr5]\n",
    "arr6 = np.insert(arr5, 3, rec, axis=1)\n",
    "print(f'TASK 12: \\n {arr6} \\n')"
   ]
  },
  {
   "cell_type": "code",
   "execution_count": 15,
   "id": "8148ece4",
   "metadata": {},
   "outputs": [
    {
     "name": "stdout",
     "output_type": "stream",
     "text": [
      "TASK 13: \n",
      "9.552 \n",
      "\n"
     ]
    }
   ],
   "source": [
    "proc = (arr6[:, 3] == 1)\n",
    "print('TASK 13: \\n'\n",
    "      f'{len(arr1[proc, :]) / len(arr6) * 100} \\n')"
   ]
  }
 ],
 "metadata": {
  "kernelspec": {
   "display_name": "Python 3 (ipykernel)",
   "language": "python",
   "name": "python3"
  },
  "language_info": {
   "codemirror_mode": {
    "name": "ipython",
    "version": 3
   },
   "file_extension": ".py",
   "mimetype": "text/x-python",
   "name": "python",
   "nbconvert_exporter": "python",
   "pygments_lexer": "ipython3",
   "version": "3.9.12"
  }
 },
 "nbformat": 4,
 "nbformat_minor": 5
}
